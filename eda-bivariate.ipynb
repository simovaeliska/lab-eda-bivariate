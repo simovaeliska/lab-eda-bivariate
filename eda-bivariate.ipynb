{
 "cells": [
  {
   "cell_type": "code",
   "execution_count": null,
   "id": "170439fa-04f3-4032-ab49-44da6dea7e12",
   "metadata": {},
   "outputs": [],
   "source": [
    "import pandas as pd\n",
    "import matplotlib.pyplot as plt\n",
    "import seaborn as sns\n",
    "import numpy as np\n",
    "\n",
    "%matplotlib inline"
   ]
  },
  {
   "cell_type": "code",
   "execution_count": null,
   "id": "e82ab249-745c-41fc-9ce4-7fbdbe59a8fc",
   "metadata": {},
   "outputs": [],
   "source": [
    "df = pd.read_csv(\"amz_uk_price_prediction_dataset.csv\")\n",
    "df = df[df.columns[df.isnull().mean() < 0.8]]\n",
    "df.head()"
   ]
  },
  {
   "cell_type": "code",
   "execution_count": null,
   "id": "c6162156-7be1-4292-8db1-861372e786e4",
   "metadata": {},
   "outputs": [],
   "source": [
    "#Part 1: Analyzing Best-Seller Trends Across Product Categories\n",
    "#Objective: Understand the relationship between product categories and their best-seller status.\n",
    "\n",
    "#Crosstab Analysis:\n",
    "#Create a crosstab between the product category and the isBestSeller status.\n",
    "#Are there categories where being a best-seller is more prevalent?\n",
    "#Hint: one option is to calculate the proportion of best-sellers for each category and then sort the categories based on this proportion in descending order.\n",
    "\n",
    "#Statistical Tests:\n",
    "#Conduct a Chi-square test to determine if the best-seller distribution is independent of the product category.\n",
    "#Compute Cramér's V to understand the strength of association between best-seller status and category.\n",
    "\n",
    "#Visualizations:\n",
    "#Visualize the relationship between product categories and the best-seller status using a stacked bar chart."
   ]
  },
  {
   "cell_type": "code",
   "execution_count": null,
   "id": "38df7a78-d37a-4faf-85a1-a3ff97dee3e2",
   "metadata": {},
   "outputs": [],
   "source": [
    "crosstab = pd.crosstab(df['category'], df['isBestSeller'])\n",
    "crosstab['Proportion'] = crosstab[True] / (crosstab[True] + crosstab[False])\n",
    "# Sort categories by proportion in descending order\n",
    "sorted_by_proportion = crosstab.sort_values(by='Proportion', ascending=False)\n",
    "sorted_by_proportion"
   ]
  },
  {
   "cell_type": "code",
   "execution_count": null,
   "id": "56ff651f-3eee-4f6f-9b4e-f0b8671a3599",
   "metadata": {},
   "outputs": [],
   "source": [
    "#Statistical Tests:\n",
    "from scipy.stats import chi2_contingency\n",
    "chi2_statistic, chi2_p_value, _, _ = chi2_contingency(crosstab)\n",
    "chi2_statistic, chi2_p_value"
   ]
  },
  {
   "cell_type": "code",
   "execution_count": null,
   "id": "ea4fd5fd-b729-4316-9a37-4aeecd65d30e",
   "metadata": {},
   "outputs": [],
   "source": [
    "from scipy.stats.contingency import association\n",
    "\n",
    "# Computing the association between variables in 'crosstab' using the \"cramer\" method\n",
    "association(crosstab, method=\"cramer\")"
   ]
  },
  {
   "cell_type": "code",
   "execution_count": null,
   "id": "b99075c3-c46c-4a38-9c91-05a2c1f231f2",
   "metadata": {},
   "outputs": [],
   "source": [
    "#Visualizations:\n",
    "sorted_by_proportion.head(20).plot(kind=\"bar\", stacked=True);"
   ]
  },
  {
   "cell_type": "code",
   "execution_count": null,
   "id": "fd02f68f-ec2f-4cdc-ac03-ee03b541f8ec",
   "metadata": {},
   "outputs": [],
   "source": [
    "#Part 2: Exploring Product Prices and Ratings Across Categories and Brands\n",
    "#Objective: Investigate how different product categories influence product prices.\n",
    "\n",
    "#Preliminary Step: Remove outliers in product prices.\n",
    "#For this purpose, we can use the IQR (Interquartile Range) method. Products priced below the first quartile minus 1.5 times the IQR or above the third quartile plus 1.5 times the IQR will be considered outliers and removed from the dataset. The next steps will be done with the dataframe without outliers.\n",
    "#Hint: you can check the last Check For Understanding at the end of the lesson EDA Bivariate Analysis for a hint on how to do this.\n",
    "\n",
    "#Violin Plots:\n",
    "#Use a violin plot to visualize the distribution of price across different product categories. Filter out the top 20 categories based on count for better visualization.\n",
    "#Which product category tends to have the highest median price? Don't filter here by top categories.                                                                                                               \n",
    "                                                                                                                                                                                                                                                                                          \n",
    "#Bar Charts:\n",
    "#Create a bar chart comparing the average price of products for the top 10 product categories (based on count).\n",
    "#Which product category commands the highest average price? Don't filter here by top categories.\n",
    "                                                                                                                                             \n",
    "#Box Plots:\n",
    "#Visualize the distribution of product ratings based on their category using side-by-side box plots. Filter out the top 10 categories based on count for better visualization.\n",
    "#Which category tends to receive the highest median rating from customers? Don't filter here by top categories"
   ]
  },
  {
   "cell_type": "code",
   "execution_count": null,
   "id": "e5488e83-65cd-4543-a5e9-05643a469c8c",
   "metadata": {},
   "outputs": [],
   "source": [
    "#Preliminary Step: Remove outliers in product prices.\n",
    "def tukeys_test_outliers(data):\n",
    "    Q1 = data.quantile(0.25)\n",
    "    Q3 = data.quantile(0.75)\n",
    "    IQR = Q3 - Q1\n",
    "\n",
    "    # Define bounds for the outliers\n",
    "    lower_bound = Q1 - 1.5 * IQR\n",
    "    upper_bound = Q3 + 1.5 * IQR\n",
    "\n",
    "    # Identify the outliers\n",
    "    outliers = data[(data < lower_bound) | (data > upper_bound)]\n",
    "\n",
    "    return outliers"
   ]
  },
  {
   "cell_type": "code",
   "execution_count": null,
   "id": "9473e55c-5b6a-4ba3-8521-22183f03d2d0",
   "metadata": {},
   "outputs": [],
   "source": [
    "data_series = df['price'] \n",
    "outliers = tukeys_test_outliers(data_series)\n",
    "print(outliers)"
   ]
  },
  {
   "cell_type": "code",
   "execution_count": null,
   "id": "4dac73d7-47a9-4296-af52-cf163bd08c9c",
   "metadata": {},
   "outputs": [],
   "source": [
    "#Violin Plots:\n",
    "#Use a violin plot to visualize the distribution of price across different product categories. \n",
    "#Filter out the top 20 categories based on count for better visualization.\n",
    "#Which product category tends to have the highest median price? Don't filter here by top categories.   \n",
    "# Find the top categories by count\n",
    "# Find the top categories by count\n",
    "top_categories = df['category'].value_counts().nlargest(20).index\n",
    "\n",
    "# Filter the DataFrame for these top categories\n",
    "df_top_categories = df[df['category'].isin(top_categories)]\n",
    "plt.figure(figsize=(12, 8))\n",
    "sns.violinplot(data=df_top_categories, x='category', y='price')\n",
    "plt.xticks(rotation=45, ha='right')\n",
    "plt.title('Price Distribution Across Top 20 Product Categories')\n",
    "plt.xlabel('Product Category')\n",
    "plt.ylabel('Price')\n",
    "plt.tight_layout()\n",
    "plt.show()\n"
   ]
  },
  {
   "cell_type": "code",
   "execution_count": null,
   "id": "c60fc6eb-b54f-4942-a4ac-243a5f76dd1a",
   "metadata": {},
   "outputs": [],
   "source": [
    "category_medians = df.groupby('category')['price'].median()\n",
    "print(\"Product category is:\" ,category_medians.idxmax())\n",
    "print(\"The highest median price is:\", category_medians.max())"
   ]
  },
  {
   "cell_type": "code",
   "execution_count": null,
   "id": "6e8d6736-6558-43c5-b5b9-d1211c76ea25",
   "metadata": {},
   "outputs": [],
   "source": [
    "#Bar Charts:\n",
    "#Create a bar chart comparing the average price of products for the top 10 product categories (based on count).\n",
    "#Which product category commands the highest average price? Don't filter here by top categories.\n",
    "\n",
    "category_avg_price = df.groupby('category')['price'].mean().reset_index()\n",
    "top_10_categories = category_avg_price.sort_values('price', ascending=False).head(10)\n",
    "\n",
    "plt.figure(figsize=(12, 6))\n",
    "sns.barplot(data=top_10_categories, x='category', y='price', hue ='category', legend=False,palette='coolwarm')\n",
    "plt.xticks(rotation=90)\n",
    "\n",
    "plt.show()"
   ]
  },
  {
   "cell_type": "code",
   "execution_count": null,
   "id": "0ea358a8-034d-4374-954b-6f4963e76800",
   "metadata": {},
   "outputs": [],
   "source": [
    "cat_highest_average = df.groupby('category')['price'].mean()\n",
    "print(\"Category name is:\" ,cat_highest_average.idxmax())\n",
    "print(\"The highest averag price is:\", cat_highest_average.max())"
   ]
  },
  {
   "cell_type": "code",
   "execution_count": null,
   "id": "b51e44f2-3be4-4e5a-a1e6-044246dd840d",
   "metadata": {},
   "outputs": [],
   "source": [
    "#Box Plots:\n",
    "#Visualize the distribution of product ratings based on their category using side-by-side box plots. Filter out the top 10 categories based on count for better visualization.\n",
    "#Which category tends to receive the highest median rating from customers? Don't filter here by top categories\n",
    "top_10_categories = df['category'].value_counts().nlargest(10).index\n",
    "\n",
    "# 2. Filter DataFrame to include only these top categories\n",
    "df_top_10 = df[df['category'].isin(top_10_categories)]\n",
    "\n",
    "# 3. Create box plots for these top categories\n",
    "plt.figure(figsize=(14, 8))\n",
    "sns.boxplot(data=df_top_10, x='category', y='stars', palette='coolwarm')\n",
    "plt.xticks(rotation=45, ha='right')\n",
    "plt.title('Product Rating Distribution Across Top 10 Categories')\n",
    "plt.xlabel('Product Category')\n",
    "plt.ylabel('Ratings')\n",
    "plt.tight_layout()\n",
    "plt.show()\n"
   ]
  },
  {
   "cell_type": "code",
   "execution_count": null,
   "id": "3273cefe-c88a-4ff0-9182-90562dd00b15",
   "metadata": {},
   "outputs": [],
   "source": [
    "median_ratings = df.groupby('category')['stars'].median()\n",
    "print(\"category with the highest median rating is:\" , median_ratings.idxmax())\n",
    "print(\"the highest median rating is:\",median_ratings.max())"
   ]
  },
  {
   "cell_type": "code",
   "execution_count": null,
   "id": "54d9f8e7-cc18-49b0-8bf9-f24236513743",
   "metadata": {},
   "outputs": [],
   "source": [
    "#Part 3: Investigating the Interplay Between Product Prices and Ratings\n",
    "#Objective: Analyze how product ratings (stars) correlate with product prices.\n",
    "\n",
    "#Correlation Coefficients:\n",
    "#Calculate the correlation coefficient between price and stars.\n",
    "#Is there a significant correlation between product price and its rating?\n",
    "\n",
    "#Visualizations:\n",
    "#Use a scatter plot to visualize the relationship between product rating and price. What patterns can you observe?\n",
    "#Use a correlation heatmap to visualize correlations between all numerical variables.\n",
    "#Examine if product prices typically follow a normal distribution using a QQ plot.\n"
   ]
  },
  {
   "cell_type": "code",
   "execution_count": null,
   "id": "776c1b3c-3d27-4c5b-8f24-777936f11aad",
   "metadata": {},
   "outputs": [],
   "source": [
    "correlation = df['price'].corr(df['stars'])\n",
    "correlation"
   ]
  },
  {
   "cell_type": "code",
   "execution_count": null,
   "id": "cfa19914-6af7-48de-a912-b411ad73d05a",
   "metadata": {},
   "outputs": [],
   "source": [
    "sns.scatterplot(data=df, x='stars', y='price');"
   ]
  },
  {
   "cell_type": "code",
   "execution_count": null,
   "id": "f504a2f3-98a0-4dfe-8e0e-8d073cf107a1",
   "metadata": {},
   "outputs": [],
   "source": [
    "corr_matrix = df.select_dtypes(\"number\").corr(method = \"spearman\")\n",
    "corr_matrix"
   ]
  },
  {
   "cell_type": "code",
   "execution_count": null,
   "id": "6ddc8ae1-2d99-4875-b9f1-5aa509fb4386",
   "metadata": {},
   "outputs": [],
   "source": [
    "sns.heatmap(corr_matrix, annot = True);"
   ]
  },
  {
   "cell_type": "code",
   "execution_count": null,
   "id": "ab139ed5-5255-4f94-9a85-addb136fe633",
   "metadata": {},
   "outputs": [],
   "source": [
    "import statsmodels.api as sm\n",
    "\n",
    "sm.qqplot(df['price'], line='s');"
   ]
  },
  {
   "cell_type": "code",
   "execution_count": null,
   "id": "f278064b-b407-4d0d-b9e6-de5c1f260cf5",
   "metadata": {},
   "outputs": [],
   "source": []
  }
 ],
 "metadata": {
  "kernelspec": {
   "display_name": "Python 3 (ipykernel)",
   "language": "python",
   "name": "python3"
  },
  "language_info": {
   "codemirror_mode": {
    "name": "ipython",
    "version": 3
   },
   "file_extension": ".py",
   "mimetype": "text/x-python",
   "name": "python",
   "nbconvert_exporter": "python",
   "pygments_lexer": "ipython3",
   "version": "3.12.4"
  }
 },
 "nbformat": 4,
 "nbformat_minor": 5
}
